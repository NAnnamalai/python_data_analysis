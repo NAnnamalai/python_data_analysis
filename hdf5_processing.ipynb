{
 "cells": [
  {
   "cell_type": "markdown",
   "metadata": {},
   "source": [
    "#### Data: https://public.tableau.com/s/sites/default/files/media/faa_data_subset.xlsx"
   ]
  },
  {
   "cell_type": "markdown",
   "metadata": {},
   "source": [
    "#### we are looking to explore hdf5 with wildlife strikes dataset"
   ]
  },
  {
   "cell_type": "code",
   "execution_count": 1,
   "metadata": {},
   "outputs": [
    {
     "name": "stderr",
     "output_type": "stream",
     "text": [
      "C:\\ProgramData\\Anaconda2\\lib\\site-packages\\h5py\\__init__.py:36: FutureWarning: Conversion of the second argument of issubdtype from `float` to `np.floating` is deprecated. In future, it will be treated as `np.float64 == np.dtype(float).type`.\n",
      "  from ._conv import register_converters as _register_converters\n"
     ]
    }
   ],
   "source": [
    "import pandas as pd\n",
    "import h5py"
   ]
  },
  {
   "cell_type": "code",
   "execution_count": 2,
   "metadata": {},
   "outputs": [
    {
     "data": {
      "text/plain": [
       "[u'FAA Wildlife Strikes']"
      ]
     },
     "execution_count": 2,
     "metadata": {},
     "output_type": "execute_result"
    }
   ],
   "source": [
    "# read the xls file with the sheetname\n",
    "sheets = pd.ExcelFile('faa_data_subset.xlsx')\n",
    "sheets.sheet_names"
   ]
  },
  {
   "cell_type": "code",
   "execution_count": 3,
   "metadata": {},
   "outputs": [
    {
     "data": {
      "text/html": [
       "<div>\n",
       "<style scoped>\n",
       "    .dataframe tbody tr th:only-of-type {\n",
       "        vertical-align: middle;\n",
       "    }\n",
       "\n",
       "    .dataframe tbody tr th {\n",
       "        vertical-align: top;\n",
       "    }\n",
       "\n",
       "    .dataframe thead th {\n",
       "        text-align: right;\n",
       "    }\n",
       "</style>\n",
       "<table border=\"1\" class=\"dataframe\">\n",
       "  <thead>\n",
       "    <tr style=\"text-align: right;\">\n",
       "      <th></th>\n",
       "      <th>Airport: Code</th>\n",
       "      <th>Airport: Name</th>\n",
       "      <th>Origin State</th>\n",
       "      <th>Origin State Code</th>\n",
       "      <th>Country</th>\n",
       "      <th>Aircraft: Type</th>\n",
       "      <th>Aircraft: Number of engines</th>\n",
       "      <th>Collision Date and Time</th>\n",
       "      <th>When: Time of day</th>\n",
       "      <th>When: Phase of flight</th>\n",
       "      <th>...</th>\n",
       "      <th>Days</th>\n",
       "      <th>Feet above ground</th>\n",
       "      <th>Miles from airport</th>\n",
       "      <th>Wildlife: Animal Category</th>\n",
       "      <th>Wildlife: Species Order</th>\n",
       "      <th>Wildlife: Species Group</th>\n",
       "      <th>Wildlife: Species</th>\n",
       "      <th>Wildlife: Species ID</th>\n",
       "      <th>Number of Strikes</th>\n",
       "      <th>Record ID</th>\n",
       "    </tr>\n",
       "  </thead>\n",
       "  <tbody>\n",
       "    <tr>\n",
       "      <th>0</th>\n",
       "      <td>KAAF</td>\n",
       "      <td>APALACHICOLA REGIONAL ARPT</td>\n",
       "      <td>Florida</td>\n",
       "      <td>FL</td>\n",
       "      <td>United States</td>\n",
       "      <td>NaN</td>\n",
       "      <td>NaN</td>\n",
       "      <td>2012-09-20 19:30:00</td>\n",
       "      <td>NaN</td>\n",
       "      <td>Take-off run</td>\n",
       "      <td>...</td>\n",
       "      <td>NaN</td>\n",
       "      <td>0.0</td>\n",
       "      <td>NaN</td>\n",
       "      <td>Terrestrial Mammals</td>\n",
       "      <td>Canids</td>\n",
       "      <td>Wolves, Dogs, Foxes, Coyote</td>\n",
       "      <td>Domestic dog</td>\n",
       "      <td>1F12</td>\n",
       "      <td>1</td>\n",
       "      <td>17459</td>\n",
       "    </tr>\n",
       "    <tr>\n",
       "      <th>1</th>\n",
       "      <td>KAAF</td>\n",
       "      <td>APALACHICOLA REGIONAL ARPT</td>\n",
       "      <td>Florida</td>\n",
       "      <td>FL</td>\n",
       "      <td>United States</td>\n",
       "      <td>Airplane</td>\n",
       "      <td>1.0</td>\n",
       "      <td>2013-04-23 17:09:00</td>\n",
       "      <td>NaN</td>\n",
       "      <td>Take-off run</td>\n",
       "      <td>...</td>\n",
       "      <td>NaN</td>\n",
       "      <td>NaN</td>\n",
       "      <td>NaN</td>\n",
       "      <td>Birds</td>\n",
       "      <td>Pelicans, Herons, Egrets, Bitterns, Ibises</td>\n",
       "      <td>Herons, Egrets, Bitterns</td>\n",
       "      <td>Herons, egrets, bitterns</td>\n",
       "      <td>I1</td>\n",
       "      <td>1</td>\n",
       "      <td>17114</td>\n",
       "    </tr>\n",
       "    <tr>\n",
       "      <th>2</th>\n",
       "      <td>KABE</td>\n",
       "      <td>LEHIGH VALLEY INTL</td>\n",
       "      <td>Pennsylvania</td>\n",
       "      <td>PA</td>\n",
       "      <td>United States</td>\n",
       "      <td>Airplane</td>\n",
       "      <td>2.0</td>\n",
       "      <td>2009-04-23 09:22:00</td>\n",
       "      <td>Day</td>\n",
       "      <td>Take-off run</td>\n",
       "      <td>...</td>\n",
       "      <td>30.0</td>\n",
       "      <td>0.0</td>\n",
       "      <td>0.0</td>\n",
       "      <td>Birds</td>\n",
       "      <td>Caracaras, Falcons</td>\n",
       "      <td>Caracaras, Falcons</td>\n",
       "      <td>American kestrel</td>\n",
       "      <td>K5114</td>\n",
       "      <td>1</td>\n",
       "      <td>259361</td>\n",
       "    </tr>\n",
       "  </tbody>\n",
       "</table>\n",
       "<p>3 rows × 25 columns</p>\n",
       "</div>"
      ],
      "text/plain": [
       "  Airport: Code               Airport: Name  Origin State Origin State Code  \\\n",
       "0          KAAF  APALACHICOLA REGIONAL ARPT       Florida                FL   \n",
       "1          KAAF  APALACHICOLA REGIONAL ARPT       Florida                FL   \n",
       "2          KABE          LEHIGH VALLEY INTL  Pennsylvania                PA   \n",
       "\n",
       "         Country Aircraft: Type  Aircraft: Number of engines  \\\n",
       "0  United States            NaN                          NaN   \n",
       "1  United States       Airplane                          1.0   \n",
       "2  United States       Airplane                          2.0   \n",
       "\n",
       "  Collision Date and Time When: Time of day When: Phase of flight    ...     \\\n",
       "0     2012-09-20 19:30:00               NaN          Take-off run    ...      \n",
       "1     2013-04-23 17:09:00               NaN          Take-off run    ...      \n",
       "2     2009-04-23 09:22:00               Day          Take-off run    ...      \n",
       "\n",
       "   Days Feet above ground Miles from airport  Wildlife: Animal Category  \\\n",
       "0   NaN               0.0                NaN        Terrestrial Mammals   \n",
       "1   NaN               NaN                NaN                      Birds   \n",
       "2  30.0               0.0                0.0                      Birds   \n",
       "\n",
       "                      Wildlife: Species Order      Wildlife: Species Group  \\\n",
       "0                                      Canids  Wolves, Dogs, Foxes, Coyote   \n",
       "1  Pelicans, Herons, Egrets, Bitterns, Ibises     Herons, Egrets, Bitterns   \n",
       "2                          Caracaras, Falcons           Caracaras, Falcons   \n",
       "\n",
       "          Wildlife: Species  Wildlife: Species ID Number of Strikes Record ID  \n",
       "0              Domestic dog                  1F12                 1     17459  \n",
       "1  Herons, egrets, bitterns                    I1                 1     17114  \n",
       "2          American kestrel                 K5114                 1    259361  \n",
       "\n",
       "[3 rows x 25 columns]"
      ]
     },
     "execution_count": 3,
     "metadata": {},
     "output_type": "execute_result"
    }
   ],
   "source": [
    "# look at top 3 rows\n",
    "df = pd.read_excel('faa_data_subset.xlsx', sheet='FAA Wildlife Strikes')\n",
    "df.head(3)"
   ]
  },
  {
   "cell_type": "code",
   "execution_count": 4,
   "metadata": {},
   "outputs": [
    {
     "data": {
      "text/plain": [
       "Index([u'Airport: Code', u'Airport: Name', u'Origin State',\n",
       "       u'Origin State Code', u'Country', u'Aircraft: Type',\n",
       "       u'Aircraft: Number of engines', u'Collision Date and Time',\n",
       "       u'When: Time of day', u'When: Phase of flight',\n",
       "       u'Effect: Amount of damage (detailed)', u'Effect: Impact to flight',\n",
       "       u'Effect: Indicated Damage',\n",
       "       u'Cost: Aircraft time out of service (hours)', u'Cost: Total $',\n",
       "       u'Days', u'Feet above ground', u'Miles from airport',\n",
       "       u'Wildlife: Animal Category', u'Wildlife: Species Order',\n",
       "       u'Wildlife: Species Group', u'Wildlife: Species',\n",
       "       u'Wildlife: Species ID', u'Number of Strikes', u'Record ID'],\n",
       "      dtype='object')"
      ]
     },
     "execution_count": 4,
     "metadata": {},
     "output_type": "execute_result"
    }
   ],
   "source": [
    "# look at all the columns, as there are 25 columns we will be able to drop some columns which we don't require\n",
    "df.columns"
   ]
  },
  {
   "cell_type": "code",
   "execution_count": 5,
   "metadata": {},
   "outputs": [
    {
     "name": "stdout",
     "output_type": "stream",
     "text": [
      "1 loop, best of 3: 7.79 s per loop\n"
     ]
    }
   ],
   "source": [
    "# time the file read \n",
    "%timeit pd.read_excel('faa_data_subset.xlsx', sheet='FAA Wildlife Strikes')"
   ]
  },
  {
   "cell_type": "code",
   "execution_count": 6,
   "metadata": {},
   "outputs": [
    {
     "data": {
      "text/plain": [
       "28298"
      ]
     },
     "execution_count": 6,
     "metadata": {},
     "output_type": "execute_result"
    }
   ],
   "source": [
    "# look at the length of rows\n",
    "len(df)"
   ]
  },
  {
   "cell_type": "markdown",
   "metadata": {},
   "source": [
    "##### 8 seconds it take to read the file"
   ]
  },
  {
   "cell_type": "code",
   "execution_count": 7,
   "metadata": {},
   "outputs": [
    {
     "name": "stdout",
     "output_type": "stream",
     "text": [
      "KAAF, KAAF, KABE, KABE, KABE, KABE, KABE, KABE, KABE, KABE\n",
      "FL, FL, PA, PA, PA, PA, PA, PA, PA, PA\n",
      "1F12, I1, K5114, O2205, K3302, NE1, K3302, YM1102, O2205, K3302\n",
      "[17459L, 17114L, 259361L, 345167L, 262782L, 208167L, 344633L, 4255L, 9581L, 1761L]\n"
     ]
    }
   ],
   "source": [
    "# 'Airport: Code', 'Origin State Code', 'Wildlife: Species ID', 'Record ID' columns is not needed\n",
    "for column in ['Airport: Code', 'Origin State Code', 'Wildlife: Species ID', 'Record ID']:\n",
    "    if column not in ['Record ID']:\n",
    "        print \", \".join(df[column].values.tolist()[:10])\n",
    "    else:\n",
    "        print df[column].values.tolist()[:10]"
   ]
  },
  {
   "cell_type": "code",
   "execution_count": 8,
   "metadata": {},
   "outputs": [
    {
     "data": {
      "text/plain": [
       "0.000000    653\n",
       "0.041667    639\n",
       "0.083333    212\n",
       "1.000000    150\n",
       "Name: Days, dtype: int64"
      ]
     },
     "execution_count": 8,
     "metadata": {},
     "output_type": "execute_result"
    }
   ],
   "source": [
    "# not sure about days column too, so we can ignore this too\n",
    "df['Days'].value_counts()[:1]"
   ]
  },
  {
   "cell_type": "code",
   "execution_count": 9,
   "metadata": {},
   "outputs": [],
   "source": [
    "df.columns = [x.lower() for x in df.columns]\n",
    "df.columns = [x.replace(' ','_') for x in df.columns]"
   ]
  },
  {
   "cell_type": "code",
   "execution_count": 10,
   "metadata": {},
   "outputs": [
    {
     "data": {
      "text/plain": [
       "Index([u'airport:_code', u'airport:_name', u'origin_state',\n",
       "       u'origin_state_code', u'country', u'aircraft:_type',\n",
       "       u'aircraft:_number_of_engines', u'collision_date_and_time',\n",
       "       u'when:_time_of_day', u'when:_phase_of_flight',\n",
       "       u'effect:_amount_of_damage_(detailed)', u'effect:_impact_to_flight',\n",
       "       u'effect:_indicated_damage',\n",
       "       u'cost:_aircraft_time_out_of_service_(hours)', u'cost:_total_$',\n",
       "       u'days', u'feet_above_ground', u'miles_from_airport',\n",
       "       u'wildlife:_animal_category', u'wildlife:_species_order',\n",
       "       u'wildlife:_species_group', u'wildlife:_species',\n",
       "       u'wildlife:_species_id', u'number_of_strikes', u'record_id'],\n",
       "      dtype='object')"
      ]
     },
     "execution_count": 10,
     "metadata": {},
     "output_type": "execute_result"
    }
   ],
   "source": [
    "df.columns"
   ]
  },
  {
   "cell_type": "code",
   "execution_count": 11,
   "metadata": {},
   "outputs": [],
   "source": [
    "exclude_columns = ['airport:_code', 'origin_state_code', 'wildlife:_species id', 'record_id', 'days']\n",
    "include_columns = []\n",
    "for column in df.columns:\n",
    "    if column not in exclude_columns:\n",
    "        include_columns.append(column)"
   ]
  },
  {
   "cell_type": "code",
   "execution_count": 12,
   "metadata": {},
   "outputs": [],
   "source": [
    "map_str = ['country', 'origin_state']\n",
    "df[map_str] = df[map_str].astype('str')"
   ]
  },
  {
   "cell_type": "code",
   "execution_count": 13,
   "metadata": {},
   "outputs": [
    {
     "data": {
      "text/plain": [
       "u'airport:_name, origin_state, country, aircraft:_type, aircraft:_number_of_engines, collision_date_and_time, when:_time_of_day, when:_phase_of_flight, effect:_amount_of_damage_(detailed), effect:_impact_to_flight, effect:_indicated_damage, cost:_aircraft_time_out_of_service_(hours), cost:_total_$, feet_above_ground, miles_from_airport, wildlife:_animal_category, wildlife:_species_order, wildlife:_species_group, wildlife:_species, wildlife:_species_id, number_of_strikes'"
      ]
     },
     "execution_count": 13,
     "metadata": {},
     "output_type": "execute_result"
    }
   ],
   "source": [
    "\", \".join(include_columns)"
   ]
  },
  {
   "cell_type": "code",
   "execution_count": 14,
   "metadata": {},
   "outputs": [
    {
     "data": {
      "text/html": [
       "<div>\n",
       "<style scoped>\n",
       "    .dataframe tbody tr th:only-of-type {\n",
       "        vertical-align: middle;\n",
       "    }\n",
       "\n",
       "    .dataframe tbody tr th {\n",
       "        vertical-align: top;\n",
       "    }\n",
       "\n",
       "    .dataframe thead th {\n",
       "        text-align: right;\n",
       "    }\n",
       "</style>\n",
       "<table border=\"1\" class=\"dataframe\">\n",
       "  <thead>\n",
       "    <tr style=\"text-align: right;\">\n",
       "      <th></th>\n",
       "      <th>airport:_name</th>\n",
       "      <th>origin_state</th>\n",
       "      <th>country</th>\n",
       "      <th>aircraft:_type</th>\n",
       "      <th>aircraft:_number_of_engines</th>\n",
       "      <th>collision_date_and_time</th>\n",
       "      <th>when:_time_of_day</th>\n",
       "      <th>when:_phase_of_flight</th>\n",
       "      <th>effect:_amount_of_damage_(detailed)</th>\n",
       "      <th>effect:_impact_to_flight</th>\n",
       "      <th>...</th>\n",
       "      <th>cost:_aircraft_time_out_of_service_(hours)</th>\n",
       "      <th>cost:_total_$</th>\n",
       "      <th>feet_above_ground</th>\n",
       "      <th>miles_from_airport</th>\n",
       "      <th>wildlife:_animal_category</th>\n",
       "      <th>wildlife:_species_order</th>\n",
       "      <th>wildlife:_species_group</th>\n",
       "      <th>wildlife:_species</th>\n",
       "      <th>wildlife:_species_id</th>\n",
       "      <th>number_of_strikes</th>\n",
       "    </tr>\n",
       "  </thead>\n",
       "  <tbody>\n",
       "    <tr>\n",
       "      <th>0</th>\n",
       "      <td>APALACHICOLA REGIONAL ARPT</td>\n",
       "      <td>Florida</td>\n",
       "      <td>United States</td>\n",
       "      <td>NaN</td>\n",
       "      <td>NaN</td>\n",
       "      <td>2012-09-20 19:30:00</td>\n",
       "      <td>NaN</td>\n",
       "      <td>Take-off run</td>\n",
       "      <td>None</td>\n",
       "      <td>None</td>\n",
       "      <td>...</td>\n",
       "      <td>NaN</td>\n",
       "      <td>0</td>\n",
       "      <td>0.0</td>\n",
       "      <td>NaN</td>\n",
       "      <td>Terrestrial Mammals</td>\n",
       "      <td>Canids</td>\n",
       "      <td>Wolves, Dogs, Foxes, Coyote</td>\n",
       "      <td>Domestic dog</td>\n",
       "      <td>1F12</td>\n",
       "      <td>1</td>\n",
       "    </tr>\n",
       "    <tr>\n",
       "      <th>1</th>\n",
       "      <td>APALACHICOLA REGIONAL ARPT</td>\n",
       "      <td>Florida</td>\n",
       "      <td>United States</td>\n",
       "      <td>Airplane</td>\n",
       "      <td>1.0</td>\n",
       "      <td>2013-04-23 17:09:00</td>\n",
       "      <td>NaN</td>\n",
       "      <td>Take-off run</td>\n",
       "      <td>None</td>\n",
       "      <td>None</td>\n",
       "      <td>...</td>\n",
       "      <td>NaN</td>\n",
       "      <td>0</td>\n",
       "      <td>NaN</td>\n",
       "      <td>NaN</td>\n",
       "      <td>Birds</td>\n",
       "      <td>Pelicans, Herons, Egrets, Bitterns, Ibises</td>\n",
       "      <td>Herons, Egrets, Bitterns</td>\n",
       "      <td>Herons, egrets, bitterns</td>\n",
       "      <td>I1</td>\n",
       "      <td>1</td>\n",
       "    </tr>\n",
       "    <tr>\n",
       "      <th>2</th>\n",
       "      <td>LEHIGH VALLEY INTL</td>\n",
       "      <td>Pennsylvania</td>\n",
       "      <td>United States</td>\n",
       "      <td>Airplane</td>\n",
       "      <td>2.0</td>\n",
       "      <td>2009-04-23 09:22:00</td>\n",
       "      <td>Day</td>\n",
       "      <td>Take-off run</td>\n",
       "      <td>Medium</td>\n",
       "      <td>Aborted Take-off</td>\n",
       "      <td>...</td>\n",
       "      <td>720.0</td>\n",
       "      <td>171132</td>\n",
       "      <td>0.0</td>\n",
       "      <td>0.0</td>\n",
       "      <td>Birds</td>\n",
       "      <td>Caracaras, Falcons</td>\n",
       "      <td>Caracaras, Falcons</td>\n",
       "      <td>American kestrel</td>\n",
       "      <td>K5114</td>\n",
       "      <td>1</td>\n",
       "    </tr>\n",
       "    <tr>\n",
       "      <th>3</th>\n",
       "      <td>LEHIGH VALLEY INTL</td>\n",
       "      <td>Pennsylvania</td>\n",
       "      <td>United States</td>\n",
       "      <td>Airplane</td>\n",
       "      <td>2.0</td>\n",
       "      <td>2014-04-13 22:00:00</td>\n",
       "      <td>Night</td>\n",
       "      <td>Approach</td>\n",
       "      <td>None</td>\n",
       "      <td>None</td>\n",
       "      <td>...</td>\n",
       "      <td>15.0</td>\n",
       "      <td>600</td>\n",
       "      <td>NaN</td>\n",
       "      <td>NaN</td>\n",
       "      <td>Birds</td>\n",
       "      <td>Pigeons and Doves</td>\n",
       "      <td>Doves</td>\n",
       "      <td>Mourning dove</td>\n",
       "      <td>O2205</td>\n",
       "      <td>1</td>\n",
       "    </tr>\n",
       "    <tr>\n",
       "      <th>4</th>\n",
       "      <td>LEHIGH VALLEY INTL</td>\n",
       "      <td>Pennsylvania</td>\n",
       "      <td>United States</td>\n",
       "      <td>Airplane</td>\n",
       "      <td>2.0</td>\n",
       "      <td>2009-03-31 18:15:00</td>\n",
       "      <td>Day</td>\n",
       "      <td>Approach</td>\n",
       "      <td>Medium</td>\n",
       "      <td>None</td>\n",
       "      <td>...</td>\n",
       "      <td>12.0</td>\n",
       "      <td>188245</td>\n",
       "      <td>NaN</td>\n",
       "      <td>0.0</td>\n",
       "      <td>Birds</td>\n",
       "      <td>Hawks, Kites, Eagles, Ospreys, Vultures</td>\n",
       "      <td>Kites, Hawks, Eagles</td>\n",
       "      <td>Red-tailed hawk</td>\n",
       "      <td>K3302</td>\n",
       "      <td>1</td>\n",
       "    </tr>\n",
       "  </tbody>\n",
       "</table>\n",
       "<p>5 rows × 21 columns</p>\n",
       "</div>"
      ],
      "text/plain": [
       "                airport:_name  origin_state        country aircraft:_type  \\\n",
       "0  APALACHICOLA REGIONAL ARPT       Florida  United States            NaN   \n",
       "1  APALACHICOLA REGIONAL ARPT       Florida  United States       Airplane   \n",
       "2          LEHIGH VALLEY INTL  Pennsylvania  United States       Airplane   \n",
       "3          LEHIGH VALLEY INTL  Pennsylvania  United States       Airplane   \n",
       "4          LEHIGH VALLEY INTL  Pennsylvania  United States       Airplane   \n",
       "\n",
       "   aircraft:_number_of_engines collision_date_and_time when:_time_of_day  \\\n",
       "0                          NaN     2012-09-20 19:30:00               NaN   \n",
       "1                          1.0     2013-04-23 17:09:00               NaN   \n",
       "2                          2.0     2009-04-23 09:22:00               Day   \n",
       "3                          2.0     2014-04-13 22:00:00             Night   \n",
       "4                          2.0     2009-03-31 18:15:00               Day   \n",
       "\n",
       "  when:_phase_of_flight effect:_amount_of_damage_(detailed)  \\\n",
       "0          Take-off run                                None   \n",
       "1          Take-off run                                None   \n",
       "2          Take-off run                              Medium   \n",
       "3              Approach                                None   \n",
       "4              Approach                              Medium   \n",
       "\n",
       "  effect:_impact_to_flight        ...         \\\n",
       "0                     None        ...          \n",
       "1                     None        ...          \n",
       "2         Aborted Take-off        ...          \n",
       "3                     None        ...          \n",
       "4                     None        ...          \n",
       "\n",
       "  cost:_aircraft_time_out_of_service_(hours)  cost:_total_$  \\\n",
       "0                                        NaN              0   \n",
       "1                                        NaN              0   \n",
       "2                                      720.0         171132   \n",
       "3                                       15.0            600   \n",
       "4                                       12.0         188245   \n",
       "\n",
       "   feet_above_ground  miles_from_airport  wildlife:_animal_category  \\\n",
       "0                0.0                 NaN        Terrestrial Mammals   \n",
       "1                NaN                 NaN                      Birds   \n",
       "2                0.0                 0.0                      Birds   \n",
       "3                NaN                 NaN                      Birds   \n",
       "4                NaN                 0.0                      Birds   \n",
       "\n",
       "                      wildlife:_species_order      wildlife:_species_group  \\\n",
       "0                                      Canids  Wolves, Dogs, Foxes, Coyote   \n",
       "1  Pelicans, Herons, Egrets, Bitterns, Ibises     Herons, Egrets, Bitterns   \n",
       "2                          Caracaras, Falcons           Caracaras, Falcons   \n",
       "3                           Pigeons and Doves                        Doves   \n",
       "4     Hawks, Kites, Eagles, Ospreys, Vultures         Kites, Hawks, Eagles   \n",
       "\n",
       "          wildlife:_species wildlife:_species_id number_of_strikes  \n",
       "0              Domestic dog                 1F12                 1  \n",
       "1  Herons, egrets, bitterns                   I1                 1  \n",
       "2          American kestrel                K5114                 1  \n",
       "3             Mourning dove                O2205                 1  \n",
       "4           Red-tailed hawk                K3302                 1  \n",
       "\n",
       "[5 rows x 21 columns]"
      ]
     },
     "execution_count": 14,
     "metadata": {},
     "output_type": "execute_result"
    }
   ],
   "source": [
    "df[include_columns].head(5)"
   ]
  },
  {
   "cell_type": "markdown",
   "metadata": {},
   "source": [
    "#### creating multiple hdf files with different view levels will help to reduce the load time"
   ]
  },
  {
   "cell_type": "code",
   "execution_count": 15,
   "metadata": {},
   "outputs": [],
   "source": [
    "# agg by Origin State, Country, Number of Strikes\n",
    "state_country_view = df.copy()\n",
    "# renaming columns which has spaces, replacing spaces with underscores\n",
    "# converting object columns to str\n",
    "state_country_view = state_country_view.groupby(['country', 'origin_state']).agg({'number_of_strikes': 'sum'})\n",
    "state_country_view = state_country_view.sort_values('number_of_strikes', ascending=False)"
   ]
  },
  {
   "cell_type": "code",
   "execution_count": 16,
   "metadata": {},
   "outputs": [],
   "source": [
    "state_country_view.to_hdf('data_views.h5', key='state_country_view', mode='a')"
   ]
  },
  {
   "cell_type": "code",
   "execution_count": 17,
   "metadata": {},
   "outputs": [
    {
     "name": "stdout",
     "output_type": "stream",
     "text": [
      "100 loops, best of 3: 6.99 ms per loop\n"
     ]
    }
   ],
   "source": [
    "%timeit pd.read_hdf('data_views.h5', key='state_country_view', mode='r')"
   ]
  },
  {
   "cell_type": "code",
   "execution_count": 18,
   "metadata": {},
   "outputs": [],
   "source": [
    "state_country_df = pd.read_hdf('data_views.h5', key='state_country_view', mode='r')"
   ]
  },
  {
   "cell_type": "code",
   "execution_count": 19,
   "metadata": {},
   "outputs": [
    {
     "data": {
      "text/html": [
       "<div>\n",
       "<style scoped>\n",
       "    .dataframe tbody tr th:only-of-type {\n",
       "        vertical-align: middle;\n",
       "    }\n",
       "\n",
       "    .dataframe tbody tr th {\n",
       "        vertical-align: top;\n",
       "    }\n",
       "\n",
       "    .dataframe thead th {\n",
       "        text-align: right;\n",
       "    }\n",
       "</style>\n",
       "<table border=\"1\" class=\"dataframe\">\n",
       "  <thead>\n",
       "    <tr style=\"text-align: right;\">\n",
       "      <th></th>\n",
       "      <th></th>\n",
       "      <th>number_of_strikes</th>\n",
       "    </tr>\n",
       "    <tr>\n",
       "      <th>country</th>\n",
       "      <th>origin_state</th>\n",
       "      <th></th>\n",
       "    </tr>\n",
       "  </thead>\n",
       "  <tbody>\n",
       "    <tr>\n",
       "      <th rowspan=\"5\" valign=\"top\">United States</th>\n",
       "      <th>California</th>\n",
       "      <td>3026</td>\n",
       "    </tr>\n",
       "    <tr>\n",
       "      <th>Texas</th>\n",
       "      <td>2306</td>\n",
       "    </tr>\n",
       "    <tr>\n",
       "      <th>Florida</th>\n",
       "      <td>2239</td>\n",
       "    </tr>\n",
       "    <tr>\n",
       "      <th>New York</th>\n",
       "      <td>2140</td>\n",
       "    </tr>\n",
       "    <tr>\n",
       "      <th>Pennsylvania</th>\n",
       "      <td>1286</td>\n",
       "    </tr>\n",
       "  </tbody>\n",
       "</table>\n",
       "</div>"
      ],
      "text/plain": [
       "                            number_of_strikes\n",
       "country       origin_state                   \n",
       "United States California                 3026\n",
       "              Texas                      2306\n",
       "              Florida                    2239\n",
       "              New York                   2140\n",
       "              Pennsylvania               1286"
      ]
     },
     "execution_count": 19,
     "metadata": {},
     "output_type": "execute_result"
    }
   ],
   "source": [
    "state_country_df.head(5)"
   ]
  },
  {
   "cell_type": "code",
   "execution_count": 20,
   "metadata": {},
   "outputs": [
    {
     "data": {
      "text/html": [
       "<div>\n",
       "<style scoped>\n",
       "    .dataframe tbody tr th:only-of-type {\n",
       "        vertical-align: middle;\n",
       "    }\n",
       "\n",
       "    .dataframe tbody tr th {\n",
       "        vertical-align: top;\n",
       "    }\n",
       "\n",
       "    .dataframe thead th {\n",
       "        text-align: right;\n",
       "    }\n",
       "</style>\n",
       "<table border=\"1\" class=\"dataframe\">\n",
       "  <thead>\n",
       "    <tr style=\"text-align: right;\">\n",
       "      <th></th>\n",
       "      <th></th>\n",
       "      <th>number_of_strikes</th>\n",
       "    </tr>\n",
       "    <tr>\n",
       "      <th>country</th>\n",
       "      <th>origin_state</th>\n",
       "      <th></th>\n",
       "    </tr>\n",
       "  </thead>\n",
       "  <tbody>\n",
       "    <tr>\n",
       "      <th rowspan=\"3\" valign=\"top\">United States</th>\n",
       "      <th>North Dakota</th>\n",
       "      <td>191</td>\n",
       "    </tr>\n",
       "    <tr>\n",
       "      <th>Kansas</th>\n",
       "      <td>153</td>\n",
       "    </tr>\n",
       "    <tr>\n",
       "      <th>Montana</th>\n",
       "      <td>89</td>\n",
       "    </tr>\n",
       "  </tbody>\n",
       "</table>\n",
       "</div>"
      ],
      "text/plain": [
       "                            number_of_strikes\n",
       "country       origin_state                   \n",
       "United States North Dakota                191\n",
       "              Kansas                      153\n",
       "              Montana                      89"
      ]
     },
     "execution_count": 20,
     "metadata": {},
     "output_type": "execute_result"
    }
   ],
   "source": [
    "state_country_df.loc[('United States', ['North Dakota', 'Kansas', 'Montana']), :]"
   ]
  },
  {
   "cell_type": "markdown",
   "metadata": {},
   "source": [
    "#### hdf5 preserves the index"
   ]
  },
  {
   "cell_type": "code",
   "execution_count": 21,
   "metadata": {},
   "outputs": [],
   "source": [
    "# agg by Origin State, Collision Date and Time, Country, Number of Strikes \n",
    "datewise_view = df.copy()\n",
    "datewise_view = datewise_view.groupby(['country', 'collision_date_and_time', 'origin_state']).agg({'number_of_strikes': 'sum'})\n",
    "datewise_view = datewise_view.sort_values('number_of_strikes', ascending=False)"
   ]
  },
  {
   "cell_type": "code",
   "execution_count": 22,
   "metadata": {},
   "outputs": [
    {
     "data": {
      "text/html": [
       "<div>\n",
       "<style scoped>\n",
       "    .dataframe tbody tr th:only-of-type {\n",
       "        vertical-align: middle;\n",
       "    }\n",
       "\n",
       "    .dataframe tbody tr th {\n",
       "        vertical-align: top;\n",
       "    }\n",
       "\n",
       "    .dataframe thead th {\n",
       "        text-align: right;\n",
       "    }\n",
       "</style>\n",
       "<table border=\"1\" class=\"dataframe\">\n",
       "  <thead>\n",
       "    <tr style=\"text-align: right;\">\n",
       "      <th></th>\n",
       "      <th></th>\n",
       "      <th></th>\n",
       "      <th>number_of_strikes</th>\n",
       "    </tr>\n",
       "    <tr>\n",
       "      <th>country</th>\n",
       "      <th>collision_date_and_time</th>\n",
       "      <th>origin_state</th>\n",
       "      <th></th>\n",
       "    </tr>\n",
       "  </thead>\n",
       "  <tbody>\n",
       "    <tr>\n",
       "      <th rowspan=\"10\" valign=\"top\">United States</th>\n",
       "      <th>2004-05-18 22:40:00</th>\n",
       "      <th>West Virginia</th>\n",
       "      <td>4</td>\n",
       "    </tr>\n",
       "    <tr>\n",
       "      <th>2004-09-08 13:10:00</th>\n",
       "      <th>Tennessee</th>\n",
       "      <td>3</td>\n",
       "    </tr>\n",
       "    <tr>\n",
       "      <th>2004-07-21 10:35:00</th>\n",
       "      <th>Indiana</th>\n",
       "      <td>3</td>\n",
       "    </tr>\n",
       "    <tr>\n",
       "      <th>2002-09-28 20:00:00</th>\n",
       "      <th>Pennsylvania</th>\n",
       "      <td>3</td>\n",
       "    </tr>\n",
       "    <tr>\n",
       "      <th>2004-11-13 10:50:00</th>\n",
       "      <th>Ohio</th>\n",
       "      <td>3</td>\n",
       "    </tr>\n",
       "    <tr>\n",
       "      <th>2010-07-19 18:39:00</th>\n",
       "      <th>Texas</th>\n",
       "      <td>2</td>\n",
       "    </tr>\n",
       "    <tr>\n",
       "      <th>2003-03-04 08:00:00</th>\n",
       "      <th>Alabama</th>\n",
       "      <td>2</td>\n",
       "    </tr>\n",
       "    <tr>\n",
       "      <th>2010-09-12 21:00:00</th>\n",
       "      <th>Utah</th>\n",
       "      <td>2</td>\n",
       "    </tr>\n",
       "    <tr>\n",
       "      <th>2010-09-12 09:40:00</th>\n",
       "      <th>Pennsylvania</th>\n",
       "      <td>2</td>\n",
       "    </tr>\n",
       "    <tr>\n",
       "      <th>2013-09-16 17:04:00</th>\n",
       "      <th>Louisiana</th>\n",
       "      <td>2</td>\n",
       "    </tr>\n",
       "  </tbody>\n",
       "</table>\n",
       "</div>"
      ],
      "text/plain": [
       "                                                     number_of_strikes\n",
       "country       collision_date_and_time origin_state                    \n",
       "United States 2004-05-18 22:40:00     West Virginia                  4\n",
       "              2004-09-08 13:10:00     Tennessee                      3\n",
       "              2004-07-21 10:35:00     Indiana                        3\n",
       "              2002-09-28 20:00:00     Pennsylvania                   3\n",
       "              2004-11-13 10:50:00     Ohio                           3\n",
       "              2010-07-19 18:39:00     Texas                          2\n",
       "              2003-03-04 08:00:00     Alabama                        2\n",
       "              2010-09-12 21:00:00     Utah                           2\n",
       "              2010-09-12 09:40:00     Pennsylvania                   2\n",
       "              2013-09-16 17:04:00     Louisiana                      2"
      ]
     },
     "execution_count": 22,
     "metadata": {},
     "output_type": "execute_result"
    }
   ],
   "source": [
    "datewise_view.head(10)"
   ]
  },
  {
   "cell_type": "code",
   "execution_count": 23,
   "metadata": {},
   "outputs": [],
   "source": [
    "datewise_view.to_hdf('data_views.h5', key='datewise_view', mode='a')"
   ]
  },
  {
   "cell_type": "code",
   "execution_count": 24,
   "metadata": {},
   "outputs": [
    {
     "data": {
      "text/html": [
       "<div>\n",
       "<style scoped>\n",
       "    .dataframe tbody tr th:only-of-type {\n",
       "        vertical-align: middle;\n",
       "    }\n",
       "\n",
       "    .dataframe tbody tr th {\n",
       "        vertical-align: top;\n",
       "    }\n",
       "\n",
       "    .dataframe thead th {\n",
       "        text-align: right;\n",
       "    }\n",
       "</style>\n",
       "<table border=\"1\" class=\"dataframe\">\n",
       "  <thead>\n",
       "    <tr style=\"text-align: right;\">\n",
       "      <th></th>\n",
       "      <th></th>\n",
       "      <th>number_of_strikes</th>\n",
       "    </tr>\n",
       "    <tr>\n",
       "      <th>country</th>\n",
       "      <th>origin_state</th>\n",
       "      <th></th>\n",
       "    </tr>\n",
       "  </thead>\n",
       "  <tbody>\n",
       "    <tr>\n",
       "      <th rowspan=\"5\" valign=\"top\">United States</th>\n",
       "      <th>California</th>\n",
       "      <td>3026</td>\n",
       "    </tr>\n",
       "    <tr>\n",
       "      <th>Texas</th>\n",
       "      <td>2306</td>\n",
       "    </tr>\n",
       "    <tr>\n",
       "      <th>Florida</th>\n",
       "      <td>2239</td>\n",
       "    </tr>\n",
       "    <tr>\n",
       "      <th>New York</th>\n",
       "      <td>2140</td>\n",
       "    </tr>\n",
       "    <tr>\n",
       "      <th>Pennsylvania</th>\n",
       "      <td>1286</td>\n",
       "    </tr>\n",
       "  </tbody>\n",
       "</table>\n",
       "</div>"
      ],
      "text/plain": [
       "                            number_of_strikes\n",
       "country       origin_state                   \n",
       "United States California                 3026\n",
       "              Texas                      2306\n",
       "              Florida                    2239\n",
       "              New York                   2140\n",
       "              Pennsylvania               1286"
      ]
     },
     "execution_count": 24,
     "metadata": {},
     "output_type": "execute_result"
    }
   ],
   "source": [
    "pd.read_hdf('data_views.h5', key='state_country_view', mode='r').head(5)"
   ]
  },
  {
   "cell_type": "code",
   "execution_count": 25,
   "metadata": {},
   "outputs": [
    {
     "data": {
      "text/html": [
       "<div>\n",
       "<style scoped>\n",
       "    .dataframe tbody tr th:only-of-type {\n",
       "        vertical-align: middle;\n",
       "    }\n",
       "\n",
       "    .dataframe tbody tr th {\n",
       "        vertical-align: top;\n",
       "    }\n",
       "\n",
       "    .dataframe thead th {\n",
       "        text-align: right;\n",
       "    }\n",
       "</style>\n",
       "<table border=\"1\" class=\"dataframe\">\n",
       "  <thead>\n",
       "    <tr style=\"text-align: right;\">\n",
       "      <th></th>\n",
       "      <th></th>\n",
       "      <th></th>\n",
       "      <th>number_of_strikes</th>\n",
       "    </tr>\n",
       "    <tr>\n",
       "      <th>country</th>\n",
       "      <th>collision_date_and_time</th>\n",
       "      <th>origin_state</th>\n",
       "      <th></th>\n",
       "    </tr>\n",
       "  </thead>\n",
       "  <tbody>\n",
       "    <tr>\n",
       "      <th rowspan=\"5\" valign=\"top\">United States</th>\n",
       "      <th>2004-05-18 22:40:00</th>\n",
       "      <th>West Virginia</th>\n",
       "      <td>4</td>\n",
       "    </tr>\n",
       "    <tr>\n",
       "      <th>2004-09-08 13:10:00</th>\n",
       "      <th>Tennessee</th>\n",
       "      <td>3</td>\n",
       "    </tr>\n",
       "    <tr>\n",
       "      <th>2004-07-21 10:35:00</th>\n",
       "      <th>Indiana</th>\n",
       "      <td>3</td>\n",
       "    </tr>\n",
       "    <tr>\n",
       "      <th>2002-09-28 20:00:00</th>\n",
       "      <th>Pennsylvania</th>\n",
       "      <td>3</td>\n",
       "    </tr>\n",
       "    <tr>\n",
       "      <th>2004-11-13 10:50:00</th>\n",
       "      <th>Ohio</th>\n",
       "      <td>3</td>\n",
       "    </tr>\n",
       "  </tbody>\n",
       "</table>\n",
       "</div>"
      ],
      "text/plain": [
       "                                                     number_of_strikes\n",
       "country       collision_date_and_time origin_state                    \n",
       "United States 2004-05-18 22:40:00     West Virginia                  4\n",
       "              2004-09-08 13:10:00     Tennessee                      3\n",
       "              2004-07-21 10:35:00     Indiana                        3\n",
       "              2002-09-28 20:00:00     Pennsylvania                   3\n",
       "              2004-11-13 10:50:00     Ohio                           3"
      ]
     },
     "execution_count": 25,
     "metadata": {},
     "output_type": "execute_result"
    }
   ],
   "source": [
    "pd.read_hdf('data_views.h5', key='datewise_view', mode='r').head(5)"
   ]
  },
  {
   "cell_type": "code",
   "execution_count": 26,
   "metadata": {},
   "outputs": [],
   "source": [
    "#### hdf5 preserves the datetime format"
   ]
  },
  {
   "cell_type": "code",
   "execution_count": null,
   "metadata": {},
   "outputs": [],
   "source": []
  }
 ],
 "metadata": {
  "kernelspec": {
   "display_name": "Python 2",
   "language": "python",
   "name": "python2"
  },
  "language_info": {
   "codemirror_mode": {
    "name": "ipython",
    "version": 2
   },
   "file_extension": ".py",
   "mimetype": "text/x-python",
   "name": "python",
   "nbconvert_exporter": "python",
   "pygments_lexer": "ipython2",
   "version": "2.7.15"
  }
 },
 "nbformat": 4,
 "nbformat_minor": 2
}
