{
 "cells": [
  {
   "cell_type": "markdown",
   "metadata": {},
   "source": [
    "#### Data: https://public.tableau.com/s/sites/default/files/media/faa_data_subset.xlsx"
   ]
  },
  {
   "cell_type": "markdown",
   "metadata": {},
   "source": [
    "#### we are looking to explore hdf5 with wildlife strikes dataset"
   ]
  },
  {
   "cell_type": "code",
   "execution_count": 1,
   "metadata": {},
   "outputs": [
    {
     "name": "stderr",
     "output_type": "stream",
     "text": [
      "C:\\ProgramData\\Anaconda2\\lib\\site-packages\\h5py\\__init__.py:36: FutureWarning: Conversion of the second argument of issubdtype from `float` to `np.floating` is deprecated. In future, it will be treated as `np.float64 == np.dtype(float).type`.\n",
      "  from ._conv import register_converters as _register_converters\n"
     ]
    }
   ],
   "source": [
    "import pandas as pd\n",
    "import h5py"
   ]
  },
  {
   "cell_type": "code",
   "execution_count": 2,
   "metadata": {},
   "outputs": [
    {
     "data": {
      "text/plain": [
       "[u'FAA Wildlife Strikes']"
      ]
     },
     "execution_count": 2,
     "metadata": {},
     "output_type": "execute_result"
    }
   ],
   "source": [
    "# read the xls file with the sheetname\n",
    "sheets = pd.ExcelFile('faa_data_subset.xlsx')\n",
    "sheets.sheet_names"
   ]
  },
  {
   "cell_type": "code",
   "execution_count": 3,
   "metadata": {},
   "outputs": [
    {
     "data": {
      "text/html": [
       "<div>\n",
       "<style scoped>\n",
       "    .dataframe tbody tr th:only-of-type {\n",
       "        vertical-align: middle;\n",
       "    }\n",
       "\n",
       "    .dataframe tbody tr th {\n",
       "        vertical-align: top;\n",
       "    }\n",
       "\n",
       "    .dataframe thead th {\n",
       "        text-align: right;\n",
       "    }\n",
       "</style>\n",
       "<table border=\"1\" class=\"dataframe\">\n",
       "  <thead>\n",
       "    <tr style=\"text-align: right;\">\n",
       "      <th></th>\n",
       "      <th>Airport: Code</th>\n",
       "      <th>Airport: Name</th>\n",
       "      <th>Origin State</th>\n",
       "      <th>Origin State Code</th>\n",
       "      <th>Country</th>\n",
       "      <th>Aircraft: Type</th>\n",
       "      <th>Aircraft: Number of engines</th>\n",
       "      <th>Collision Date and Time</th>\n",
       "      <th>When: Time of day</th>\n",
       "      <th>When: Phase of flight</th>\n",
       "      <th>...</th>\n",
       "      <th>Days</th>\n",
       "      <th>Feet above ground</th>\n",
       "      <th>Miles from airport</th>\n",
       "      <th>Wildlife: Animal Category</th>\n",
       "      <th>Wildlife: Species Order</th>\n",
       "      <th>Wildlife: Species Group</th>\n",
       "      <th>Wildlife: Species</th>\n",
       "      <th>Wildlife: Species ID</th>\n",
       "      <th>Number of Strikes</th>\n",
       "      <th>Record ID</th>\n",
       "    </tr>\n",
       "  </thead>\n",
       "  <tbody>\n",
       "    <tr>\n",
       "      <th>0</th>\n",
       "      <td>KAAF</td>\n",
       "      <td>APALACHICOLA REGIONAL ARPT</td>\n",
       "      <td>Florida</td>\n",
       "      <td>FL</td>\n",
       "      <td>United States</td>\n",
       "      <td>NaN</td>\n",
       "      <td>NaN</td>\n",
       "      <td>2012-09-20 19:30:00</td>\n",
       "      <td>NaN</td>\n",
       "      <td>Take-off run</td>\n",
       "      <td>...</td>\n",
       "      <td>NaN</td>\n",
       "      <td>0.0</td>\n",
       "      <td>NaN</td>\n",
       "      <td>Terrestrial Mammals</td>\n",
       "      <td>Canids</td>\n",
       "      <td>Wolves, Dogs, Foxes, Coyote</td>\n",
       "      <td>Domestic dog</td>\n",
       "      <td>1F12</td>\n",
       "      <td>1</td>\n",
       "      <td>17459</td>\n",
       "    </tr>\n",
       "    <tr>\n",
       "      <th>1</th>\n",
       "      <td>KAAF</td>\n",
       "      <td>APALACHICOLA REGIONAL ARPT</td>\n",
       "      <td>Florida</td>\n",
       "      <td>FL</td>\n",
       "      <td>United States</td>\n",
       "      <td>Airplane</td>\n",
       "      <td>1.0</td>\n",
       "      <td>2013-04-23 17:09:00</td>\n",
       "      <td>NaN</td>\n",
       "      <td>Take-off run</td>\n",
       "      <td>...</td>\n",
       "      <td>NaN</td>\n",
       "      <td>NaN</td>\n",
       "      <td>NaN</td>\n",
       "      <td>Birds</td>\n",
       "      <td>Pelicans, Herons, Egrets, Bitterns, Ibises</td>\n",
       "      <td>Herons, Egrets, Bitterns</td>\n",
       "      <td>Herons, egrets, bitterns</td>\n",
       "      <td>I1</td>\n",
       "      <td>1</td>\n",
       "      <td>17114</td>\n",
       "    </tr>\n",
       "    <tr>\n",
       "      <th>2</th>\n",
       "      <td>KABE</td>\n",
       "      <td>LEHIGH VALLEY INTL</td>\n",
       "      <td>Pennsylvania</td>\n",
       "      <td>PA</td>\n",
       "      <td>United States</td>\n",
       "      <td>Airplane</td>\n",
       "      <td>2.0</td>\n",
       "      <td>2009-04-23 09:22:00</td>\n",
       "      <td>Day</td>\n",
       "      <td>Take-off run</td>\n",
       "      <td>...</td>\n",
       "      <td>30.0</td>\n",
       "      <td>0.0</td>\n",
       "      <td>0.0</td>\n",
       "      <td>Birds</td>\n",
       "      <td>Caracaras, Falcons</td>\n",
       "      <td>Caracaras, Falcons</td>\n",
       "      <td>American kestrel</td>\n",
       "      <td>K5114</td>\n",
       "      <td>1</td>\n",
       "      <td>259361</td>\n",
       "    </tr>\n",
       "  </tbody>\n",
       "</table>\n",
       "<p>3 rows × 25 columns</p>\n",
       "</div>"
      ],
      "text/plain": [
       "  Airport: Code               Airport: Name  Origin State Origin State Code  \\\n",
       "0          KAAF  APALACHICOLA REGIONAL ARPT       Florida                FL   \n",
       "1          KAAF  APALACHICOLA REGIONAL ARPT       Florida                FL   \n",
       "2          KABE          LEHIGH VALLEY INTL  Pennsylvania                PA   \n",
       "\n",
       "         Country Aircraft: Type  Aircraft: Number of engines  \\\n",
       "0  United States            NaN                          NaN   \n",
       "1  United States       Airplane                          1.0   \n",
       "2  United States       Airplane                          2.0   \n",
       "\n",
       "  Collision Date and Time When: Time of day When: Phase of flight    ...     \\\n",
       "0     2012-09-20 19:30:00               NaN          Take-off run    ...      \n",
       "1     2013-04-23 17:09:00               NaN          Take-off run    ...      \n",
       "2     2009-04-23 09:22:00               Day          Take-off run    ...      \n",
       "\n",
       "   Days Feet above ground Miles from airport  Wildlife: Animal Category  \\\n",
       "0   NaN               0.0                NaN        Terrestrial Mammals   \n",
       "1   NaN               NaN                NaN                      Birds   \n",
       "2  30.0               0.0                0.0                      Birds   \n",
       "\n",
       "                      Wildlife: Species Order      Wildlife: Species Group  \\\n",
       "0                                      Canids  Wolves, Dogs, Foxes, Coyote   \n",
       "1  Pelicans, Herons, Egrets, Bitterns, Ibises     Herons, Egrets, Bitterns   \n",
       "2                          Caracaras, Falcons           Caracaras, Falcons   \n",
       "\n",
       "          Wildlife: Species  Wildlife: Species ID Number of Strikes Record ID  \n",
       "0              Domestic dog                  1F12                 1     17459  \n",
       "1  Herons, egrets, bitterns                    I1                 1     17114  \n",
       "2          American kestrel                 K5114                 1    259361  \n",
       "\n",
       "[3 rows x 25 columns]"
      ]
     },
     "execution_count": 3,
     "metadata": {},
     "output_type": "execute_result"
    }
   ],
   "source": [
    "# look at top 3 rows\n",
    "df = pd.read_excel('faa_data_subset.xlsx', sheet='FAA Wildlife Strikes')\n",
    "df.head(3)"
   ]
  },
  {
   "cell_type": "code",
   "execution_count": 4,
   "metadata": {},
   "outputs": [
    {
     "data": {
      "text/plain": [
       "Index([u'Airport: Code', u'Airport: Name', u'Origin State',\n",
       "       u'Origin State Code', u'Country', u'Aircraft: Type',\n",
       "       u'Aircraft: Number of engines', u'Collision Date and Time',\n",
       "       u'When: Time of day', u'When: Phase of flight',\n",
       "       u'Effect: Amount of damage (detailed)', u'Effect: Impact to flight',\n",
       "       u'Effect: Indicated Damage',\n",
       "       u'Cost: Aircraft time out of service (hours)', u'Cost: Total $',\n",
       "       u'Days', u'Feet above ground', u'Miles from airport',\n",
       "       u'Wildlife: Animal Category', u'Wildlife: Species Order',\n",
       "       u'Wildlife: Species Group', u'Wildlife: Species',\n",
       "       u'Wildlife: Species ID', u'Number of Strikes', u'Record ID'],\n",
       "      dtype='object')"
      ]
     },
     "execution_count": 4,
     "metadata": {},
     "output_type": "execute_result"
    }
   ],
   "source": [
    "# look at all the columns, as there are 25 columns we will be able to drop some columns which we don't require\n",
    "df.columns"
   ]
  },
  {
   "cell_type": "code",
   "execution_count": 5,
   "metadata": {},
   "outputs": [
    {
     "name": "stdout",
     "output_type": "stream",
     "text": [
      "1 loop, best of 3: 7.85 s per loop\n"
     ]
    }
   ],
   "source": [
    "# time the file read \n",
    "%timeit pd.read_excel('faa_data_subset.xlsx', sheet='FAA Wildlife Strikes')"
   ]
  },
  {
   "cell_type": "code",
   "execution_count": 6,
   "metadata": {},
   "outputs": [
    {
     "data": {
      "text/plain": [
       "28298"
      ]
     },
     "execution_count": 6,
     "metadata": {},
     "output_type": "execute_result"
    }
   ],
   "source": [
    "# look at the length of rows\n",
    "len(df)"
   ]
  },
  {
   "cell_type": "markdown",
   "metadata": {},
   "source": [
    "##### 8 seconds it take to read the file"
   ]
  },
  {
   "cell_type": "code",
   "execution_count": null,
   "metadata": {},
   "outputs": [],
   "source": []
  }
 ],
 "metadata": {
  "kernelspec": {
   "display_name": "Python 2",
   "language": "python",
   "name": "python2"
  },
  "language_info": {
   "codemirror_mode": {
    "name": "ipython",
    "version": 2
   },
   "file_extension": ".py",
   "mimetype": "text/x-python",
   "name": "python",
   "nbconvert_exporter": "python",
   "pygments_lexer": "ipython2",
   "version": "2.7.15"
  }
 },
 "nbformat": 4,
 "nbformat_minor": 2
}
