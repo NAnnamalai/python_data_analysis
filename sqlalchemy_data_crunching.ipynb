{
 "cells": [
  {
   "cell_type": "markdown",
   "metadata": {},
   "source": [
    "### Data: https://archive.ics.uci.edu/ml/datasets/Flags"
   ]
  },
  {
   "cell_type": "code",
   "execution_count": 1,
   "metadata": {},
   "outputs": [],
   "source": [
    "import pandas as pd\n",
    "import sqlalchemy as db"
   ]
  },
  {
   "cell_type": "code",
   "execution_count": 2,
   "metadata": {},
   "outputs": [],
   "source": [
    "engine = db.create_engine('sqlite:///flags_data.db')\n",
    "connection = engine.connect()\n",
    "metadata = db.MetaData()\n",
    "flags = db.Table('flags', metadata, autoload=True, autoload_with=engine)"
   ]
  },
  {
   "cell_type": "code",
   "execution_count": 3,
   "metadata": {},
   "outputs": [
    {
     "data": {
      "text/html": [
       "<div>\n",
       "<style scoped>\n",
       "    .dataframe tbody tr th:only-of-type {\n",
       "        vertical-align: middle;\n",
       "    }\n",
       "\n",
       "    .dataframe tbody tr th {\n",
       "        vertical-align: top;\n",
       "    }\n",
       "\n",
       "    .dataframe thead th {\n",
       "        text-align: right;\n",
       "    }\n",
       "</style>\n",
       "<table border=\"1\" class=\"dataframe\">\n",
       "  <thead>\n",
       "    <tr style=\"text-align: right;\">\n",
       "      <th></th>\n",
       "      <th>name</th>\n",
       "      <th>landmass</th>\n",
       "      <th>zone</th>\n",
       "      <th>area</th>\n",
       "      <th>population</th>\n",
       "      <th>language</th>\n",
       "      <th>religion</th>\n",
       "      <th>bars</th>\n",
       "      <th>stripes</th>\n",
       "      <th>colors</th>\n",
       "      <th>...</th>\n",
       "      <th>saltires</th>\n",
       "      <th>quarters</th>\n",
       "      <th>sunstars</th>\n",
       "      <th>crescent</th>\n",
       "      <th>triangle</th>\n",
       "      <th>icon</th>\n",
       "      <th>animate</th>\n",
       "      <th>text</th>\n",
       "      <th>topleft</th>\n",
       "      <th>botright</th>\n",
       "    </tr>\n",
       "  </thead>\n",
       "  <tbody>\n",
       "    <tr>\n",
       "      <th>0</th>\n",
       "      <td>Afghanistan</td>\n",
       "      <td>5</td>\n",
       "      <td>1</td>\n",
       "      <td>648</td>\n",
       "      <td>16</td>\n",
       "      <td>10</td>\n",
       "      <td>2</td>\n",
       "      <td>0</td>\n",
       "      <td>3</td>\n",
       "      <td>5</td>\n",
       "      <td>...</td>\n",
       "      <td>0</td>\n",
       "      <td>0</td>\n",
       "      <td>1</td>\n",
       "      <td>0</td>\n",
       "      <td>0</td>\n",
       "      <td>1</td>\n",
       "      <td>0</td>\n",
       "      <td>0</td>\n",
       "      <td>black</td>\n",
       "      <td>green</td>\n",
       "    </tr>\n",
       "    <tr>\n",
       "      <th>1</th>\n",
       "      <td>Albania</td>\n",
       "      <td>3</td>\n",
       "      <td>1</td>\n",
       "      <td>29</td>\n",
       "      <td>3</td>\n",
       "      <td>6</td>\n",
       "      <td>6</td>\n",
       "      <td>0</td>\n",
       "      <td>0</td>\n",
       "      <td>3</td>\n",
       "      <td>...</td>\n",
       "      <td>0</td>\n",
       "      <td>0</td>\n",
       "      <td>1</td>\n",
       "      <td>0</td>\n",
       "      <td>0</td>\n",
       "      <td>0</td>\n",
       "      <td>1</td>\n",
       "      <td>0</td>\n",
       "      <td>red</td>\n",
       "      <td>red</td>\n",
       "    </tr>\n",
       "    <tr>\n",
       "      <th>2</th>\n",
       "      <td>Algeria</td>\n",
       "      <td>4</td>\n",
       "      <td>1</td>\n",
       "      <td>2388</td>\n",
       "      <td>20</td>\n",
       "      <td>8</td>\n",
       "      <td>2</td>\n",
       "      <td>2</td>\n",
       "      <td>0</td>\n",
       "      <td>3</td>\n",
       "      <td>...</td>\n",
       "      <td>0</td>\n",
       "      <td>0</td>\n",
       "      <td>1</td>\n",
       "      <td>1</td>\n",
       "      <td>0</td>\n",
       "      <td>0</td>\n",
       "      <td>0</td>\n",
       "      <td>0</td>\n",
       "      <td>green</td>\n",
       "      <td>white</td>\n",
       "    </tr>\n",
       "    <tr>\n",
       "      <th>3</th>\n",
       "      <td>American-Samoa</td>\n",
       "      <td>6</td>\n",
       "      <td>3</td>\n",
       "      <td>0</td>\n",
       "      <td>0</td>\n",
       "      <td>1</td>\n",
       "      <td>1</td>\n",
       "      <td>0</td>\n",
       "      <td>0</td>\n",
       "      <td>5</td>\n",
       "      <td>...</td>\n",
       "      <td>0</td>\n",
       "      <td>0</td>\n",
       "      <td>0</td>\n",
       "      <td>0</td>\n",
       "      <td>1</td>\n",
       "      <td>1</td>\n",
       "      <td>1</td>\n",
       "      <td>0</td>\n",
       "      <td>blue</td>\n",
       "      <td>red</td>\n",
       "    </tr>\n",
       "    <tr>\n",
       "      <th>4</th>\n",
       "      <td>Andorra</td>\n",
       "      <td>3</td>\n",
       "      <td>1</td>\n",
       "      <td>0</td>\n",
       "      <td>0</td>\n",
       "      <td>6</td>\n",
       "      <td>0</td>\n",
       "      <td>3</td>\n",
       "      <td>0</td>\n",
       "      <td>3</td>\n",
       "      <td>...</td>\n",
       "      <td>0</td>\n",
       "      <td>0</td>\n",
       "      <td>0</td>\n",
       "      <td>0</td>\n",
       "      <td>0</td>\n",
       "      <td>0</td>\n",
       "      <td>0</td>\n",
       "      <td>0</td>\n",
       "      <td>blue</td>\n",
       "      <td>red</td>\n",
       "    </tr>\n",
       "  </tbody>\n",
       "</table>\n",
       "<p>5 rows × 30 columns</p>\n",
       "</div>"
      ],
      "text/plain": [
       "             name  landmass  zone  area  population  language  religion  bars  \\\n",
       "0     Afghanistan         5     1   648          16        10         2     0   \n",
       "1         Albania         3     1    29           3         6         6     0   \n",
       "2         Algeria         4     1  2388          20         8         2     2   \n",
       "3  American-Samoa         6     3     0           0         1         1     0   \n",
       "4         Andorra         3     1     0           0         6         0     3   \n",
       "\n",
       "   stripes  colors    ...     saltires  quarters  sunstars  crescent  \\\n",
       "0        3       5    ...            0         0         1         0   \n",
       "1        0       3    ...            0         0         1         0   \n",
       "2        0       3    ...            0         0         1         1   \n",
       "3        0       5    ...            0         0         0         0   \n",
       "4        0       3    ...            0         0         0         0   \n",
       "\n",
       "   triangle  icon  animate text  topleft  botright  \n",
       "0         0     1        0    0    black     green  \n",
       "1         0     0        1    0      red       red  \n",
       "2         0     0        0    0    green     white  \n",
       "3         1     1        1    0     blue       red  \n",
       "4         0     0        0    0     blue       red  \n",
       "\n",
       "[5 rows x 30 columns]"
      ]
     },
     "execution_count": 3,
     "metadata": {},
     "output_type": "execute_result"
    }
   ],
   "source": [
    "query = db.select([flags])\n",
    "results = connection.execute(query).fetchall()\n",
    "pd.DataFrame(results, columns=results[0].keys()).head(5)"
   ]
  },
  {
   "cell_type": "code",
   "execution_count": 4,
   "metadata": {},
   "outputs": [
    {
     "data": {
      "text/plain": [
       "194"
      ]
     },
     "execution_count": 4,
     "metadata": {},
     "output_type": "execute_result"
    }
   ],
   "source": [
    "len(results)"
   ]
  },
  {
   "cell_type": "code",
   "execution_count": 5,
   "metadata": {},
   "outputs": [],
   "source": [
    "# writing a small function which filters a boolean column, sorts counties in ascending order\n",
    "def boolean_filter_db(filter_column, country_column):\n",
    "    filter_rows = db.select([flags.columns.name]).where(filter_column == 1).order_by(db.asc(country_column))\n",
    "    results = connection.execute(filter_rows).fetchall()\n",
    "    return pd.DataFrame(results, columns=results[0].keys())"
   ]
  },
  {
   "cell_type": "code",
   "execution_count": 6,
   "metadata": {},
   "outputs": [
    {
     "name": "stdout",
     "output_type": "stream",
     "text": [
      "There are 43 countries with lanuguage english\n"
     ]
    }
   ],
   "source": [
    "# get all the countries with language English, sorted by countries in ascending order\n",
    "english_language = boolean_filter_db(flags.columns.language, flags.columns.name)\n",
    "print \"There are {} countries with lanuguage english\".format(len(english_language))"
   ]
  },
  {
   "cell_type": "code",
   "execution_count": 7,
   "metadata": {},
   "outputs": [
    {
     "name": "stdout",
     "output_type": "stream",
     "text": [
      "There are 153 countries with red color in flags\n",
      "There are 91 countries with green color in flags\n",
      "There are 99 countries with blue color in flags\n",
      "There are 91 countries with gold color in flags\n",
      "There are 146 countries with white color in flags\n",
      "There are 52 countries with black color in flags\n",
      "There are 26 countries with orange color in flags\n"
     ]
    }
   ],
   "source": [
    "# use the same functionality for different colors which are red, green, blue, gold, white, black, orange\n",
    "colors_list = ['red', 'green', 'blue', 'gold', 'white', 'black', 'orange']\n",
    "colors_column_names = [flags.columns.red, flags.columns.green, flags.columns.blue, \n",
    "                       flags.columns.gold, flags.columns.white, flags.columns.black, flags.columns.orange]\n",
    "for idx, clr in enumerate(colors_column_names):\n",
    "    color_pick = boolean_filter_db(clr, flags.columns.name)\n",
    "    note = \"There are {} countries with {} color in flags\"\n",
    "    print note.format(len(color_pick), colors_list[idx])"
   ]
  },
  {
   "cell_type": "code",
   "execution_count": 8,
   "metadata": {},
   "outputs": [
    {
     "name": "stdout",
     "output_type": "stream",
     "text": [
      "There are 11 countries with crescent in flags\n",
      "There are 27 countries with triangle in flags\n",
      "There are 49 countries with icon in flags\n",
      "There are 39 countries with animate in flags\n",
      "There are 16 countries with text in flags\n"
     ]
    }
   ],
   "source": [
    "# use the same functionality for different shapes, text which are crescent, triangle, icon, animate, text\n",
    "shapes_list = ['crescent', 'triangle', 'icon', 'animate', 'text']\n",
    "shapes_column_names = [flags.columns.crescent, flags.columns.triangle, flags.columns.icon, \n",
    "                       flags.columns.animate, flags.columns.text]\n",
    "for idx, shp in enumerate(shapes_column_names):\n",
    "    shape_pick = boolean_filter_db(shp, flags.columns.name)\n",
    "    note = \"There are {} countries with {} in flags\"\n",
    "    print note.format(len(shape_pick), shapes_list[idx])"
   ]
  },
  {
   "cell_type": "code",
   "execution_count": 9,
   "metadata": {},
   "outputs": [],
   "source": [
    "# writing a small function which takes in a column, sorts it in descending order excluding zeros \n",
    "# and returns the country along with it\n",
    "def custom_filter_db(filter_column, country_column):\n",
    "    filter_query = db.select([country_column, filter_column]).where(filter_column > 0)\n",
    "    filter_query = filter_query.order_by(db.desc(filter_column))\n",
    "    results = connection.execute(filter_query).fetchall()\n",
    "    return pd.DataFrame(results, columns=results[0].keys())"
   ]
  },
  {
   "cell_type": "code",
   "execution_count": 10,
   "metadata": {},
   "outputs": [
    {
     "name": "stdout",
     "output_type": "stream",
     "text": [
      "There are 35 countries with bars in flags, among which St-Vincent has the most number of bars: 5\n"
     ]
    }
   ],
   "source": [
    "# get all the countries flags with most no. of vertical bars, sorted by vertical bars\n",
    "flags_with_bars = custom_filter_db(flags.columns.bars, flags.columns.name)\n",
    "note = \"There are {} countries with bars in flags, among which {} has the most number of bars: {}\"\n",
    "print note.format(len(flags_with_bars), flags_with_bars['name'][0], flags_with_bars['bars'][0])"
   ]
  },
  {
   "cell_type": "code",
   "execution_count": 11,
   "metadata": {},
   "outputs": [
    {
     "name": "stdout",
     "output_type": "stream",
     "text": [
      "There are 84 countries with stripes in flags, among which Malaysia has the most number of stripes: 14\n"
     ]
    }
   ],
   "source": [
    "# get all the countries flags with most no. of horizontal stripes, sorted by horizontal stripes\n",
    "flags_with_stripes = custom_filter_db(flags.columns.stripes, flags.columns.name)\n",
    "note = \"There are {} countries with stripes in flags, among which {} has the most number of stripes: {}\"\n",
    "print note.format(len(flags_with_stripes), flags_with_stripes['name'][0], flags_with_stripes['stripes'][0])"
   ]
  },
  {
   "cell_type": "code",
   "execution_count": 12,
   "metadata": {},
   "outputs": [
    {
     "name": "stdout",
     "output_type": "stream",
     "text": [
      "There are 194 countries with different colors in flags, among which Belize has the most number of different colors: 8\n"
     ]
    }
   ],
   "source": [
    "# get all the countries flags with most no. of different colors in the flag, sorted by different colors in the flag\n",
    "different_colors = custom_filter_db(flags.columns.colors, flags.columns.name)\n",
    "note = \"There are {} countries with different colors in flags, among which {} has the most number of different colors: {}\"\n",
    "print note.format(len(different_colors), different_colors['name'][0], different_colors['colors'][0])"
   ]
  },
  {
   "cell_type": "code",
   "execution_count": 13,
   "metadata": {},
   "outputs": [
    {
     "name": "stdout",
     "output_type": "stream",
     "text": [
      "There are 29 countries with circles in flags, among which Bhutan has the most number of circles: 4\n",
      "There are 27 countries with crosses in flags, among which Fiji has the most number of crosses: 2\n",
      "There are 18 countries with saltires in flags\n",
      "There are 26 countries with quarters in flags, among which Panama has the most number of quarters: 4\n",
      "There are 80 countries with sunstars in flags, among which USA has the most number of sunstars: 50\n"
     ]
    }
   ],
   "source": [
    "symbols = ['circles', 'crosses', 'saltires', 'quarters', 'sunstars']\n",
    "symbol_column_names = [flags.columns.circles, flags.columns.crosses, flags.columns.saltires, \n",
    "                       flags.columns.quarters, flags.columns.sunstars]\n",
    "for idx, symbol in enumerate(symbol_column_names):\n",
    "    flags_with_symbols = custom_filter_db(symbol, flags.columns.name)\n",
    "    if symbols[idx] == 'saltires':\n",
    "        print \"There are {} countries with saltires in flags\".format(len(flags_with_symbols))\n",
    "    else:\n",
    "        note = \"There are {} countries with {} in flags, among which {} has the most number of {}: {}\"\n",
    "        print note.format(len(flags_with_symbols), symbols[idx], flags_with_symbols['name'][0], symbols[idx], flags_with_symbols[symbols[idx]][0])\n"
   ]
  },
  {
   "cell_type": "code",
   "execution_count": 14,
   "metadata": {},
   "outputs": [
    {
     "data": {
      "text/html": [
       "<div>\n",
       "<style scoped>\n",
       "    .dataframe tbody tr th:only-of-type {\n",
       "        vertical-align: middle;\n",
       "    }\n",
       "\n",
       "    .dataframe tbody tr th {\n",
       "        vertical-align: top;\n",
       "    }\n",
       "\n",
       "    .dataframe thead th {\n",
       "        text-align: right;\n",
       "    }\n",
       "</style>\n",
       "<table border=\"1\" class=\"dataframe\">\n",
       "  <thead>\n",
       "    <tr style=\"text-align: right;\">\n",
       "      <th></th>\n",
       "      <th>landmass</th>\n",
       "      <th>population</th>\n",
       "    </tr>\n",
       "  </thead>\n",
       "  <tbody>\n",
       "    <tr>\n",
       "      <th>0</th>\n",
       "      <td>Asia</td>\n",
       "      <td>2698</td>\n",
       "    </tr>\n",
       "    <tr>\n",
       "      <th>1</th>\n",
       "      <td>Europe</td>\n",
       "      <td>485</td>\n",
       "    </tr>\n",
       "    <tr>\n",
       "      <th>2</th>\n",
       "      <td>Africa</td>\n",
       "      <td>457</td>\n",
       "    </tr>\n",
       "    <tr>\n",
       "      <th>3</th>\n",
       "      <td>N.America</td>\n",
       "      <td>381</td>\n",
       "    </tr>\n",
       "    <tr>\n",
       "      <th>4</th>\n",
       "      <td>S.America</td>\n",
       "      <td>267</td>\n",
       "    </tr>\n",
       "    <tr>\n",
       "      <th>5</th>\n",
       "      <td>Oceania</td>\n",
       "      <td>226</td>\n",
       "    </tr>\n",
       "  </tbody>\n",
       "</table>\n",
       "</div>"
      ],
      "text/plain": [
       "    landmass  population\n",
       "0       Asia        2698\n",
       "1     Europe         485\n",
       "2     Africa         457\n",
       "3  N.America         381\n",
       "4  S.America         267\n",
       "5    Oceania         226"
      ]
     },
     "execution_count": 14,
     "metadata": {},
     "output_type": "execute_result"
    }
   ],
   "source": [
    "# group by landmass, sum population\n",
    "group_landmass = db.select([db.func.sum(flags.columns.population).label('population'), flags.columns.landmass]).group_by(flags.columns.landmass)\n",
    "group_landmass = group_landmass.order_by(db.desc('population'))\n",
    "results = connection.execute(group_landmass).fetchall()\n",
    "landmass_mapping = {1: 'N.America', 2: 'S.America', 3: 'Europe', 4: 'Africa', 5: 'Asia', 6: 'Oceania'}\n",
    "df = pd.DataFrame(results, columns=results[0].keys())\n",
    "df['landmass'] = df['landmass'].apply(lambda v: landmass_mapping[v])\n",
    "df[['landmass', 'population']]"
   ]
  },
  {
   "cell_type": "code",
   "execution_count": 15,
   "metadata": {},
   "outputs": [
    {
     "data": {
      "text/html": [
       "<div>\n",
       "<style scoped>\n",
       "    .dataframe tbody tr th:only-of-type {\n",
       "        vertical-align: middle;\n",
       "    }\n",
       "\n",
       "    .dataframe tbody tr th {\n",
       "        vertical-align: top;\n",
       "    }\n",
       "\n",
       "    .dataframe thead th {\n",
       "        text-align: right;\n",
       "    }\n",
       "</style>\n",
       "<table border=\"1\" class=\"dataframe\">\n",
       "  <thead>\n",
       "    <tr style=\"text-align: right;\">\n",
       "      <th></th>\n",
       "      <th>topleft</th>\n",
       "      <th>count</th>\n",
       "    </tr>\n",
       "  </thead>\n",
       "  <tbody>\n",
       "    <tr>\n",
       "      <th>0</th>\n",
       "      <td>red</td>\n",
       "      <td>56</td>\n",
       "    </tr>\n",
       "    <tr>\n",
       "      <th>1</th>\n",
       "      <td>blue</td>\n",
       "      <td>43</td>\n",
       "    </tr>\n",
       "    <tr>\n",
       "      <th>2</th>\n",
       "      <td>white</td>\n",
       "      <td>41</td>\n",
       "    </tr>\n",
       "    <tr>\n",
       "      <th>3</th>\n",
       "      <td>green</td>\n",
       "      <td>32</td>\n",
       "    </tr>\n",
       "    <tr>\n",
       "      <th>4</th>\n",
       "      <td>black</td>\n",
       "      <td>12</td>\n",
       "    </tr>\n",
       "    <tr>\n",
       "      <th>5</th>\n",
       "      <td>gold</td>\n",
       "      <td>6</td>\n",
       "    </tr>\n",
       "    <tr>\n",
       "      <th>6</th>\n",
       "      <td>orange</td>\n",
       "      <td>4</td>\n",
       "    </tr>\n",
       "  </tbody>\n",
       "</table>\n",
       "</div>"
      ],
      "text/plain": [
       "  topleft  count\n",
       "0     red     56\n",
       "1    blue     43\n",
       "2   white     41\n",
       "3   green     32\n",
       "4   black     12\n",
       "5    gold      6\n",
       "6  orange      4"
      ]
     },
     "execution_count": 15,
     "metadata": {},
     "output_type": "execute_result"
    }
   ],
   "source": [
    "group_topleft = db.select([db.func.count(flags.columns.name).label('count'), flags.columns.topleft]).group_by(flags.columns.topleft)\n",
    "group_topleft = group_topleft.order_by(db.desc('count'))\n",
    "results = connection.execute(group_topleft).fetchall()\n",
    "df = pd.DataFrame(results, columns=results[0].keys())\n",
    "df[['topleft', 'count']]"
   ]
  },
  {
   "cell_type": "code",
   "execution_count": 16,
   "metadata": {},
   "outputs": [
    {
     "data": {
      "text/html": [
       "<div>\n",
       "<style scoped>\n",
       "    .dataframe tbody tr th:only-of-type {\n",
       "        vertical-align: middle;\n",
       "    }\n",
       "\n",
       "    .dataframe tbody tr th {\n",
       "        vertical-align: top;\n",
       "    }\n",
       "\n",
       "    .dataframe thead th {\n",
       "        text-align: right;\n",
       "    }\n",
       "</style>\n",
       "<table border=\"1\" class=\"dataframe\">\n",
       "  <thead>\n",
       "    <tr style=\"text-align: right;\">\n",
       "      <th></th>\n",
       "      <th>botright</th>\n",
       "      <th>count</th>\n",
       "    </tr>\n",
       "  </thead>\n",
       "  <tbody>\n",
       "    <tr>\n",
       "      <th>0</th>\n",
       "      <td>red</td>\n",
       "      <td>69</td>\n",
       "    </tr>\n",
       "    <tr>\n",
       "      <th>1</th>\n",
       "      <td>blue</td>\n",
       "      <td>47</td>\n",
       "    </tr>\n",
       "    <tr>\n",
       "      <th>2</th>\n",
       "      <td>green</td>\n",
       "      <td>40</td>\n",
       "    </tr>\n",
       "    <tr>\n",
       "      <th>3</th>\n",
       "      <td>white</td>\n",
       "      <td>17</td>\n",
       "    </tr>\n",
       "    <tr>\n",
       "      <th>4</th>\n",
       "      <td>black</td>\n",
       "      <td>9</td>\n",
       "    </tr>\n",
       "    <tr>\n",
       "      <th>5</th>\n",
       "      <td>gold</td>\n",
       "      <td>9</td>\n",
       "    </tr>\n",
       "    <tr>\n",
       "      <th>6</th>\n",
       "      <td>brown</td>\n",
       "      <td>2</td>\n",
       "    </tr>\n",
       "    <tr>\n",
       "      <th>7</th>\n",
       "      <td>orange</td>\n",
       "      <td>1</td>\n",
       "    </tr>\n",
       "  </tbody>\n",
       "</table>\n",
       "</div>"
      ],
      "text/plain": [
       "  botright  count\n",
       "0      red     69\n",
       "1     blue     47\n",
       "2    green     40\n",
       "3    white     17\n",
       "4    black      9\n",
       "5     gold      9\n",
       "6    brown      2\n",
       "7   orange      1"
      ]
     },
     "execution_count": 16,
     "metadata": {},
     "output_type": "execute_result"
    }
   ],
   "source": [
    "group_botright = db.select([db.func.count(flags.columns.name).label('count'), flags.columns.botright]).group_by(flags.columns.botright)\n",
    "group_botright = group_botright.order_by(db.desc('count'))\n",
    "results = connection.execute(group_botright).fetchall()\n",
    "df = pd.DataFrame(results, columns=results[0].keys())\n",
    "df[['botright', 'count']]"
   ]
  },
  {
   "cell_type": "code",
   "execution_count": 17,
   "metadata": {},
   "outputs": [
    {
     "data": {
      "text/plain": [
       "0    Afghanistan\n",
       "1        Algeria\n",
       "2         Angola\n",
       "3        Bahrain\n",
       "4     Bangladesh\n",
       "Name: name, dtype: object"
      ]
     },
     "execution_count": 17,
     "metadata": {},
     "output_type": "execute_result"
    }
   ],
   "source": [
    "# select only asia and africa\n",
    "query = db.select([flags.columns.name]).where(flags.columns.landmass.in_([4, 5]))\n",
    "results = connection.execute(query).fetchall()\n",
    "asian_african_countries = pd.DataFrame(results, columns=results[0].keys())\n",
    "asian_african_countries['name'].head(5)"
   ]
  },
  {
   "cell_type": "code",
   "execution_count": 18,
   "metadata": {},
   "outputs": [
    {
     "data": {
      "text/html": [
       "<div>\n",
       "<style scoped>\n",
       "    .dataframe tbody tr th:only-of-type {\n",
       "        vertical-align: middle;\n",
       "    }\n",
       "\n",
       "    .dataframe tbody tr th {\n",
       "        vertical-align: top;\n",
       "    }\n",
       "\n",
       "    .dataframe thead th {\n",
       "        text-align: right;\n",
       "    }\n",
       "</style>\n",
       "<table border=\"1\" class=\"dataframe\">\n",
       "  <thead>\n",
       "    <tr style=\"text-align: right;\">\n",
       "      <th></th>\n",
       "      <th>name</th>\n",
       "      <th>green</th>\n",
       "    </tr>\n",
       "  </thead>\n",
       "  <tbody>\n",
       "    <tr>\n",
       "      <th>0</th>\n",
       "      <td>Afghanistan</td>\n",
       "      <td>1</td>\n",
       "    </tr>\n",
       "    <tr>\n",
       "      <th>1</th>\n",
       "      <td>Bangladesh</td>\n",
       "      <td>1</td>\n",
       "    </tr>\n",
       "    <tr>\n",
       "      <th>2</th>\n",
       "      <td>Hong-Kong</td>\n",
       "      <td>1</td>\n",
       "    </tr>\n",
       "    <tr>\n",
       "      <th>3</th>\n",
       "      <td>India</td>\n",
       "      <td>1</td>\n",
       "    </tr>\n",
       "    <tr>\n",
       "      <th>4</th>\n",
       "      <td>Iran</td>\n",
       "      <td>1</td>\n",
       "    </tr>\n",
       "    <tr>\n",
       "      <th>5</th>\n",
       "      <td>Iraq</td>\n",
       "      <td>1</td>\n",
       "    </tr>\n",
       "    <tr>\n",
       "      <th>6</th>\n",
       "      <td>Jordan</td>\n",
       "      <td>1</td>\n",
       "    </tr>\n",
       "    <tr>\n",
       "      <th>7</th>\n",
       "      <td>Kuwait</td>\n",
       "      <td>1</td>\n",
       "    </tr>\n",
       "    <tr>\n",
       "      <th>8</th>\n",
       "      <td>Lebanon</td>\n",
       "      <td>1</td>\n",
       "    </tr>\n",
       "    <tr>\n",
       "      <th>9</th>\n",
       "      <td>Maldive-Islands</td>\n",
       "      <td>1</td>\n",
       "    </tr>\n",
       "    <tr>\n",
       "      <th>10</th>\n",
       "      <td>North-Yemen</td>\n",
       "      <td>1</td>\n",
       "    </tr>\n",
       "    <tr>\n",
       "      <th>11</th>\n",
       "      <td>Oman</td>\n",
       "      <td>1</td>\n",
       "    </tr>\n",
       "    <tr>\n",
       "      <th>12</th>\n",
       "      <td>Pakistan</td>\n",
       "      <td>1</td>\n",
       "    </tr>\n",
       "    <tr>\n",
       "      <th>13</th>\n",
       "      <td>Saudi-Arabia</td>\n",
       "      <td>1</td>\n",
       "    </tr>\n",
       "    <tr>\n",
       "      <th>14</th>\n",
       "      <td>Sri-Lanka</td>\n",
       "      <td>1</td>\n",
       "    </tr>\n",
       "    <tr>\n",
       "      <th>15</th>\n",
       "      <td>Syria</td>\n",
       "      <td>1</td>\n",
       "    </tr>\n",
       "    <tr>\n",
       "      <th>16</th>\n",
       "      <td>UAE</td>\n",
       "      <td>1</td>\n",
       "    </tr>\n",
       "  </tbody>\n",
       "</table>\n",
       "</div>"
      ],
      "text/plain": [
       "               name  green\n",
       "0       Afghanistan      1\n",
       "1        Bangladesh      1\n",
       "2         Hong-Kong      1\n",
       "3             India      1\n",
       "4              Iran      1\n",
       "5              Iraq      1\n",
       "6            Jordan      1\n",
       "7            Kuwait      1\n",
       "8           Lebanon      1\n",
       "9   Maldive-Islands      1\n",
       "10      North-Yemen      1\n",
       "11             Oman      1\n",
       "12         Pakistan      1\n",
       "13     Saudi-Arabia      1\n",
       "14        Sri-Lanka      1\n",
       "15            Syria      1\n",
       "16              UAE      1"
      ]
     },
     "execution_count": 18,
     "metadata": {},
     "output_type": "execute_result"
    }
   ],
   "source": [
    "# select only asian countries with green color in flags\n",
    "filter_rows = db.select([flags.columns.name, flags.columns.green])\n",
    "filter_rows = filter_rows.where(db.and_(flags.columns.green == 1, flags.columns.landmass == 5))\n",
    "filter_rows = filter_rows.order_by(db.asc(flags.columns.name))\n",
    "results = connection.execute(filter_rows).fetchall()\n",
    "pd.DataFrame(results, columns=results[0].keys())"
   ]
  },
  {
   "cell_type": "code",
   "execution_count": null,
   "metadata": {},
   "outputs": [],
   "source": []
  }
 ],
 "metadata": {
  "kernelspec": {
   "display_name": "Python 2",
   "language": "python",
   "name": "python2"
  },
  "language_info": {
   "codemirror_mode": {
    "name": "ipython",
    "version": 2
   },
   "file_extension": ".py",
   "mimetype": "text/x-python",
   "name": "python",
   "nbconvert_exporter": "python",
   "pygments_lexer": "ipython2",
   "version": "2.7.15"
  }
 },
 "nbformat": 4,
 "nbformat_minor": 2
}
